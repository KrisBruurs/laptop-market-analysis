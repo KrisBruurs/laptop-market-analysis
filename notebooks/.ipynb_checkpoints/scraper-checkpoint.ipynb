{
 "cells": [
  {
   "cell_type": "code",
   "execution_count": 37,
   "id": "42523f3e-b524-47fb-a536-c3b77ccf5789",
   "metadata": {},
   "outputs": [],
   "source": [
    "import undetected_chromedriver as uc\n",
    "from selenium.webdriver.common.by import By\n",
    "from selenium.webdriver.support.ui import WebDriverWait\n",
    "from selenium.webdriver.support import expected_conditions as EC\n",
    "from selenium.common.exceptions import TimeoutException, NoSuchElementException\n",
    "import time\n",
    "import random"
   ]
  },
  {
   "cell_type": "code",
   "execution_count": 35,
   "id": "2f22cbb7-dea0-462a-8fc0-fb5a542ba9f8",
   "metadata": {},
   "outputs": [
    {
     "name": "stdout",
     "output_type": "stream",
     "text": [
      "20\n",
      "22\n"
     ]
    }
   ],
   "source": [
    "options = uc.ChromeOptions()\n",
    "\n",
    "\n",
    "driver = uc.Chrome(options=options)\n",
    "\n",
    "base_url = 'https://www.coolblue.nl/laptops/filter?pagina=1'\n",
    "driver.get(base_url)\n",
    "\n",
    "# Handle cookies\n",
    "try:\n",
    "    cookie_btn = WebDriverWait(driver, 10).until(EC.element_to_be_clickable((By.CLASS_NAME, 'button'))).click()\n",
    "    print('Cookie button pressed')\n",
    "except TimeoutException:\n",
    "    print('Cookie button not found or already accepted')\n",
    "    \n",
    "pages_items = driver.find_elements(By.CLASS_NAME, 'pagination__item')\n",
    "max_pages = int(pages_items[-2].text)\n",
    "print(max_pages)\n",
    "\n",
    "\n",
    "links_list = []\n",
    "\n",
    "product_block = driver.find_element(By.ID, 'product-results')\n",
    "products = product_block.find_elements(By.CLASS_NAME, 'link')\n",
    "\n",
    "for product in products:\n",
    "    link = product.get_attribute('href')\n",
    "    if link.startswith('https://www.coolblue.nl/product'):\n",
    "        if link not in links_list:\n",
    "            links_list.append(link)\n",
    "        \n",
    "\n",
    "driver.quit()"
   ]
  },
  {
   "cell_type": "code",
   "execution_count": null,
   "id": "087738d0-971d-4753-8a8a-237fd998a25a",
   "metadata": {},
   "outputs": [],
   "source": []
  },
  {
   "cell_type": "code",
   "execution_count": null,
   "id": "0b9026d7-33d0-4334-826e-ae29d689a90c",
   "metadata": {},
   "outputs": [],
   "source": []
  },
  {
   "cell_type": "code",
   "execution_count": null,
   "id": "48a200fe-405a-4e40-a457-dc1fc8aca16a",
   "metadata": {},
   "outputs": [],
   "source": []
  },
  {
   "cell_type": "code",
   "execution_count": null,
   "id": "a04e9824-1d6a-45ec-b3d7-7db45262301f",
   "metadata": {},
   "outputs": [],
   "source": []
  },
  {
   "cell_type": "code",
   "execution_count": null,
   "id": "34f3887f-7350-426e-aa43-39cfd73d05c4",
   "metadata": {},
   "outputs": [],
   "source": []
  },
  {
   "cell_type": "code",
   "execution_count": null,
   "id": "7d8df5c6-3a42-4d4b-bd37-a6b746a2897e",
   "metadata": {},
   "outputs": [],
   "source": []
  },
  {
   "cell_type": "code",
   "execution_count": null,
   "id": "7628be77-484c-4d01-a2c3-d91f1216946f",
   "metadata": {},
   "outputs": [],
   "source": []
  }
 ],
 "metadata": {
  "kernelspec": {
   "display_name": "Python 3 (ipykernel)",
   "language": "python",
   "name": "python3"
  },
  "language_info": {
   "codemirror_mode": {
    "name": "ipython",
    "version": 3
   },
   "file_extension": ".py",
   "mimetype": "text/x-python",
   "name": "python",
   "nbconvert_exporter": "python",
   "pygments_lexer": "ipython3",
   "version": "3.12.7"
  }
 },
 "nbformat": 4,
 "nbformat_minor": 5
}
